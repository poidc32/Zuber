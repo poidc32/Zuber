{
 "cells": [
  {
   "cell_type": "markdown",
   "metadata": {},
   "source": [
    "## Descripcion del proyecto"
   ]
  },
  {
   "cell_type": "markdown",
   "metadata": {},
   "source": [
    "Estás trabajando como analista para Zuber, una nueva empresa de viajes compartidos que se está lanzando en Chicago. Tu tarea es encontrar patrones en la información disponible. Quieres comprender las preferencias de los pasajeros y el impacto de los factores externos en los viajes.\n",
    "\n",
    "Al trabajar con una base de datos, analizarás los datos de los competidores y probarás una hipótesis sobre el impacto del clima en la frecuencia de los viajes."
   ]
  },
  {
   "cell_type": "markdown",
   "metadata": {},
   "source": [
    "## Análisis exploratorio de datos"
   ]
  },
  {
   "cell_type": "code",
   "execution_count": 1,
   "metadata": {},
   "outputs": [],
   "source": [
    "#Estas son las librerías a utilizar.\n",
    "import pandas as pd\n",
    "import numpy as np\n",
    "import math as mt\n",
    "from matplotlib import pyplot as plt\n",
    "from scipy import stats as st\n",
    "import seaborn as sns"
   ]
  },
  {
   "cell_type": "code",
   "execution_count": 3,
   "metadata": {},
   "outputs": [],
   "source": [
    "#Se importan los archivos csv\n",
    "ds1 = pd.read_csv('moved_project_sql_result_01.csv')\n",
    "ds2 = pd.read_csv('moved_project_sql_result_04.csv')\n",
    "ds3 = pd.read_csv('moved_project_sql_result_07.csv')"
   ]
  },
  {
   "cell_type": "code",
   "execution_count": 4,
   "metadata": {},
   "outputs": [
    {
     "name": "stdout",
     "output_type": "stream",
     "text": [
      "<class 'pandas.core.frame.DataFrame'>\n",
      "RangeIndex: 64 entries, 0 to 63\n",
      "Data columns (total 2 columns):\n",
      " #   Column        Non-Null Count  Dtype \n",
      "---  ------        --------------  ----- \n",
      " 0   company_name  64 non-null     object\n",
      " 1   trips_amount  64 non-null     int64 \n",
      "dtypes: int64(1), object(1)\n",
      "memory usage: 1.1+ KB\n"
     ]
    },
    {
     "data": {
      "text/html": [
       "<div>\n",
       "<style scoped>\n",
       "    .dataframe tbody tr th:only-of-type {\n",
       "        vertical-align: middle;\n",
       "    }\n",
       "\n",
       "    .dataframe tbody tr th {\n",
       "        vertical-align: top;\n",
       "    }\n",
       "\n",
       "    .dataframe thead th {\n",
       "        text-align: right;\n",
       "    }\n",
       "</style>\n",
       "<table border=\"1\" class=\"dataframe\">\n",
       "  <thead>\n",
       "    <tr style=\"text-align: right;\">\n",
       "      <th></th>\n",
       "      <th>company_name</th>\n",
       "      <th>trips_amount</th>\n",
       "    </tr>\n",
       "  </thead>\n",
       "  <tbody>\n",
       "    <tr>\n",
       "      <th>0</th>\n",
       "      <td>Flash Cab</td>\n",
       "      <td>19558</td>\n",
       "    </tr>\n",
       "    <tr>\n",
       "      <th>1</th>\n",
       "      <td>Taxi Affiliation Services</td>\n",
       "      <td>11422</td>\n",
       "    </tr>\n",
       "    <tr>\n",
       "      <th>2</th>\n",
       "      <td>Medallion Leasin</td>\n",
       "      <td>10367</td>\n",
       "    </tr>\n",
       "    <tr>\n",
       "      <th>3</th>\n",
       "      <td>Yellow Cab</td>\n",
       "      <td>9888</td>\n",
       "    </tr>\n",
       "    <tr>\n",
       "      <th>4</th>\n",
       "      <td>Taxi Affiliation Service Yellow</td>\n",
       "      <td>9299</td>\n",
       "    </tr>\n",
       "  </tbody>\n",
       "</table>\n",
       "</div>"
      ],
      "text/plain": [
       "                      company_name  trips_amount\n",
       "0                        Flash Cab         19558\n",
       "1        Taxi Affiliation Services         11422\n",
       "2                 Medallion Leasin         10367\n",
       "3                       Yellow Cab          9888\n",
       "4  Taxi Affiliation Service Yellow          9299"
      ]
     },
     "execution_count": 4,
     "metadata": {},
     "output_type": "execute_result"
    }
   ],
   "source": [
    "ds1.info()\n",
    "ds1.head()"
   ]
  },
  {
   "cell_type": "code",
   "execution_count": 5,
   "metadata": {},
   "outputs": [
    {
     "name": "stdout",
     "output_type": "stream",
     "text": [
      "<class 'pandas.core.frame.DataFrame'>\n",
      "RangeIndex: 94 entries, 0 to 93\n",
      "Data columns (total 2 columns):\n",
      " #   Column                 Non-Null Count  Dtype  \n",
      "---  ------                 --------------  -----  \n",
      " 0   dropoff_location_name  94 non-null     object \n",
      " 1   average_trips          94 non-null     float64\n",
      "dtypes: float64(1), object(1)\n",
      "memory usage: 1.6+ KB\n"
     ]
    },
    {
     "data": {
      "text/html": [
       "<div>\n",
       "<style scoped>\n",
       "    .dataframe tbody tr th:only-of-type {\n",
       "        vertical-align: middle;\n",
       "    }\n",
       "\n",
       "    .dataframe tbody tr th {\n",
       "        vertical-align: top;\n",
       "    }\n",
       "\n",
       "    .dataframe thead th {\n",
       "        text-align: right;\n",
       "    }\n",
       "</style>\n",
       "<table border=\"1\" class=\"dataframe\">\n",
       "  <thead>\n",
       "    <tr style=\"text-align: right;\">\n",
       "      <th></th>\n",
       "      <th>dropoff_location_name</th>\n",
       "      <th>average_trips</th>\n",
       "    </tr>\n",
       "  </thead>\n",
       "  <tbody>\n",
       "    <tr>\n",
       "      <th>0</th>\n",
       "      <td>Loop</td>\n",
       "      <td>10727.466667</td>\n",
       "    </tr>\n",
       "    <tr>\n",
       "      <th>1</th>\n",
       "      <td>River North</td>\n",
       "      <td>9523.666667</td>\n",
       "    </tr>\n",
       "    <tr>\n",
       "      <th>2</th>\n",
       "      <td>Streeterville</td>\n",
       "      <td>6664.666667</td>\n",
       "    </tr>\n",
       "    <tr>\n",
       "      <th>3</th>\n",
       "      <td>West Loop</td>\n",
       "      <td>5163.666667</td>\n",
       "    </tr>\n",
       "    <tr>\n",
       "      <th>4</th>\n",
       "      <td>O'Hare</td>\n",
       "      <td>2546.900000</td>\n",
       "    </tr>\n",
       "  </tbody>\n",
       "</table>\n",
       "</div>"
      ],
      "text/plain": [
       "  dropoff_location_name  average_trips\n",
       "0                  Loop   10727.466667\n",
       "1           River North    9523.666667\n",
       "2         Streeterville    6664.666667\n",
       "3             West Loop    5163.666667\n",
       "4                O'Hare    2546.900000"
      ]
     },
     "execution_count": 5,
     "metadata": {},
     "output_type": "execute_result"
    }
   ],
   "source": [
    "ds2.info()\n",
    "ds2.head()"
   ]
  },
  {
   "cell_type": "code",
   "execution_count": 6,
   "metadata": {
    "scrolled": false
   },
   "outputs": [
    {
     "name": "stdout",
     "output_type": "stream",
     "text": [
      "<class 'pandas.core.frame.DataFrame'>\n",
      "RangeIndex: 1068 entries, 0 to 1067\n",
      "Data columns (total 3 columns):\n",
      " #   Column              Non-Null Count  Dtype  \n",
      "---  ------              --------------  -----  \n",
      " 0   start_ts            1068 non-null   object \n",
      " 1   weather_conditions  1068 non-null   object \n",
      " 2   duration_seconds    1068 non-null   float64\n",
      "dtypes: float64(1), object(2)\n",
      "memory usage: 25.2+ KB\n"
     ]
    },
    {
     "data": {
      "text/html": [
       "<div>\n",
       "<style scoped>\n",
       "    .dataframe tbody tr th:only-of-type {\n",
       "        vertical-align: middle;\n",
       "    }\n",
       "\n",
       "    .dataframe tbody tr th {\n",
       "        vertical-align: top;\n",
       "    }\n",
       "\n",
       "    .dataframe thead th {\n",
       "        text-align: right;\n",
       "    }\n",
       "</style>\n",
       "<table border=\"1\" class=\"dataframe\">\n",
       "  <thead>\n",
       "    <tr style=\"text-align: right;\">\n",
       "      <th></th>\n",
       "      <th>start_ts</th>\n",
       "      <th>weather_conditions</th>\n",
       "      <th>duration_seconds</th>\n",
       "    </tr>\n",
       "  </thead>\n",
       "  <tbody>\n",
       "    <tr>\n",
       "      <th>0</th>\n",
       "      <td>2017-11-25 16:00:00</td>\n",
       "      <td>Good</td>\n",
       "      <td>2410.0</td>\n",
       "    </tr>\n",
       "    <tr>\n",
       "      <th>1</th>\n",
       "      <td>2017-11-25 14:00:00</td>\n",
       "      <td>Good</td>\n",
       "      <td>1920.0</td>\n",
       "    </tr>\n",
       "    <tr>\n",
       "      <th>2</th>\n",
       "      <td>2017-11-25 12:00:00</td>\n",
       "      <td>Good</td>\n",
       "      <td>1543.0</td>\n",
       "    </tr>\n",
       "    <tr>\n",
       "      <th>3</th>\n",
       "      <td>2017-11-04 10:00:00</td>\n",
       "      <td>Good</td>\n",
       "      <td>2512.0</td>\n",
       "    </tr>\n",
       "    <tr>\n",
       "      <th>4</th>\n",
       "      <td>2017-11-11 07:00:00</td>\n",
       "      <td>Good</td>\n",
       "      <td>1440.0</td>\n",
       "    </tr>\n",
       "  </tbody>\n",
       "</table>\n",
       "</div>"
      ],
      "text/plain": [
       "              start_ts weather_conditions  duration_seconds\n",
       "0  2017-11-25 16:00:00               Good            2410.0\n",
       "1  2017-11-25 14:00:00               Good            1920.0\n",
       "2  2017-11-25 12:00:00               Good            1543.0\n",
       "3  2017-11-04 10:00:00               Good            2512.0\n",
       "4  2017-11-11 07:00:00               Good            1440.0"
      ]
     },
     "execution_count": 6,
     "metadata": {},
     "output_type": "execute_result"
    }
   ],
   "source": [
    "ds3.info()\n",
    "ds3.head()"
   ]
  },
  {
   "cell_type": "markdown",
   "metadata": {},
   "source": [
    "En este caso, convertiremos la columna 'start_ts' a tipo datetime para facilitar su análisis. Las demás columnas presentan el tipo de datos requerido."
   ]
  },
  {
   "cell_type": "code",
   "execution_count": 7,
   "metadata": {},
   "outputs": [
    {
     "name": "stdout",
     "output_type": "stream",
     "text": [
      "<class 'pandas.core.frame.DataFrame'>\n",
      "RangeIndex: 1068 entries, 0 to 1067\n",
      "Data columns (total 3 columns):\n",
      " #   Column              Non-Null Count  Dtype         \n",
      "---  ------              --------------  -----         \n",
      " 0   start_ts            1068 non-null   datetime64[ns]\n",
      " 1   weather_conditions  1068 non-null   object        \n",
      " 2   duration_seconds    1068 non-null   float64       \n",
      "dtypes: datetime64[ns](1), float64(1), object(1)\n",
      "memory usage: 25.2+ KB\n"
     ]
    }
   ],
   "source": [
    "#Se convierte el tipo de datos de la columna 'start_ts' a datatime\n",
    "ds3['start_ts'] = pd.to_datetime(ds3['start_ts'])\n",
    "ds3.info()"
   ]
  },
  {
   "cell_type": "markdown",
   "metadata": {},
   "source": [
    "**Se ha verificado que no existen valores ausentes y que los tipos de datos cumplen con los requisitos necesarios para su análisis.**"
   ]
  },
  {
   "cell_type": "code",
   "execution_count": 8,
   "metadata": {},
   "outputs": [],
   "source": [
    "# Nos aseguramos que no existan espacios en blanco al inicio de los nombres de las columnas.\n",
    "ds1.columns = ds1.columns.str.strip()\n",
    "ds2.columns = ds2.columns.str.strip()"
   ]
  },
  {
   "cell_type": "code",
   "execution_count": 9,
   "metadata": {},
   "outputs": [
    {
     "name": "stdout",
     "output_type": "stream",
     "text": [
      "0\n",
      "0\n"
     ]
    }
   ],
   "source": [
    "#Se confirma que no existan filas duplicadas en nuestros datasets.\n",
    "print (ds1.duplicated().sum())\n",
    "print (ds2.duplicated().sum())"
   ]
  },
  {
   "cell_type": "markdown",
   "metadata": {},
   "source": [
    "**Ahora podemos empezar a trabajar con los datos de las tablas anteriores**"
   ]
  },
  {
   "cell_type": "code",
   "execution_count": 10,
   "metadata": {},
   "outputs": [
    {
     "data": {
      "text/html": [
       "<div>\n",
       "<style scoped>\n",
       "    .dataframe tbody tr th:only-of-type {\n",
       "        vertical-align: middle;\n",
       "    }\n",
       "\n",
       "    .dataframe tbody tr th {\n",
       "        vertical-align: top;\n",
       "    }\n",
       "\n",
       "    .dataframe thead th {\n",
       "        text-align: right;\n",
       "    }\n",
       "</style>\n",
       "<table border=\"1\" class=\"dataframe\">\n",
       "  <thead>\n",
       "    <tr style=\"text-align: right;\">\n",
       "      <th></th>\n",
       "      <th>dropoff_location_name</th>\n",
       "      <th>average_trips</th>\n",
       "    </tr>\n",
       "  </thead>\n",
       "  <tbody>\n",
       "    <tr>\n",
       "      <th>0</th>\n",
       "      <td>Loop</td>\n",
       "      <td>10727.466667</td>\n",
       "    </tr>\n",
       "    <tr>\n",
       "      <th>1</th>\n",
       "      <td>River North</td>\n",
       "      <td>9523.666667</td>\n",
       "    </tr>\n",
       "    <tr>\n",
       "      <th>2</th>\n",
       "      <td>Streeterville</td>\n",
       "      <td>6664.666667</td>\n",
       "    </tr>\n",
       "    <tr>\n",
       "      <th>3</th>\n",
       "      <td>West Loop</td>\n",
       "      <td>5163.666667</td>\n",
       "    </tr>\n",
       "    <tr>\n",
       "      <th>4</th>\n",
       "      <td>O'Hare</td>\n",
       "      <td>2546.900000</td>\n",
       "    </tr>\n",
       "    <tr>\n",
       "      <th>5</th>\n",
       "      <td>Lake View</td>\n",
       "      <td>2420.966667</td>\n",
       "    </tr>\n",
       "    <tr>\n",
       "      <th>6</th>\n",
       "      <td>Grant Park</td>\n",
       "      <td>2068.533333</td>\n",
       "    </tr>\n",
       "    <tr>\n",
       "      <th>7</th>\n",
       "      <td>Museum Campus</td>\n",
       "      <td>1510.000000</td>\n",
       "    </tr>\n",
       "    <tr>\n",
       "      <th>8</th>\n",
       "      <td>Gold Coast</td>\n",
       "      <td>1364.233333</td>\n",
       "    </tr>\n",
       "    <tr>\n",
       "      <th>9</th>\n",
       "      <td>Sheffield &amp; DePaul</td>\n",
       "      <td>1259.766667</td>\n",
       "    </tr>\n",
       "  </tbody>\n",
       "</table>\n",
       "</div>"
      ],
      "text/plain": [
       "  dropoff_location_name  average_trips\n",
       "0                  Loop   10727.466667\n",
       "1           River North    9523.666667\n",
       "2         Streeterville    6664.666667\n",
       "3             West Loop    5163.666667\n",
       "4                O'Hare    2546.900000\n",
       "5             Lake View    2420.966667\n",
       "6            Grant Park    2068.533333\n",
       "7         Museum Campus    1510.000000\n",
       "8            Gold Coast    1364.233333\n",
       "9    Sheffield & DePaul    1259.766667"
      ]
     },
     "execution_count": 10,
     "metadata": {},
     "output_type": "execute_result"
    }
   ],
   "source": [
    "#Se identifican los 10 principales barrios en términos de finalización\n",
    "top_locations = ds2.nlargest(10, 'average_trips')\n",
    "top_locations"
   ]
  },
  {
   "cell_type": "code",
   "execution_count": 10,
   "metadata": {},
   "outputs": [
    {
     "data": {
      "text/plain": [
       "<AxesSubplot:title={'center':'Una empresa se destaca como líder en el mercado de viajes, con una amplia ventaja competitiva.'}, xlabel='Compañía', ylabel='Número de viajes'>"
      ]
     },
     "execution_count": 10,
     "metadata": {},
     "output_type": "execute_result"
    },
    {
     "data": {
      "image/png": "[encoded data removed]",
      "text/plain": [
       "<Figure size 1200x600 with 1 Axes>"
      ]
     },
     "metadata": {},
     "output_type": "display_data"
    }
   ],
   "source": [
    "ds1_top = ds1[ds1['trips_amount']>100] #Se filtra el df para empresas que realizaron mas de 100 viajes\n",
    "\n",
    "ds1_top.plot(kind='bar', x = 'company_name', title= 'Una empresa se destaca como líder en el mercado de viajes, con una amplia ventaja competitiva.', xlabel='Compañía', ylabel='Número de viajes', edgecolor= 'black', figsize= [12, 6])"
   ]
  },
  {
   "cell_type": "markdown",
   "metadata": {},
   "source": [
    "**Se ha observado que Flash Cab se posiciona como la empresa líder en el sector de viajes, alcanzando casi el doble de viajes en comparación con el segundo lugar. Si bien en algunos rangos existen empresas que compiten entre sí de manera más equilibrada, se presentan caídas significativas en ciertos puntos para otros grupos de empresas de viajes.**"
   ]
  },
  {
   "cell_type": "code",
   "execution_count": 11,
   "metadata": {},
   "outputs": [
    {
     "data": {
      "text/plain": [
       "<Axes: title={'center': 'Se registra un elevado flujo de viajes en Chicago, aunque este varía entre los diferentes barrios'}, xlabel='Barrio', ylabel='Promedio de viajes finalizados'>"
      ]
     },
     "execution_count": 11,
     "metadata": {},
     "output_type": "execute_result"
    },
    {
     "data": {
      "image/png": "[encoded data removed]",
      "text/plain": [
       "<Figure size 1200x600 with 1 Axes>"
      ]
     },
     "metadata": {},
     "output_type": "display_data"
    }
   ],
   "source": [
    "top_locations.plot(kind='bar', x = 'dropoff_location_name', title= 'Se registra un elevado flujo de viajes en Chicago, aunque este varía entre los diferentes barrios', xlabel='Barrio', ylabel='Promedio de viajes finalizados', edgecolor= 'black', figsize= [12, 6])"
   ]
  },
  {
   "cell_type": "markdown",
   "metadata": {},
   "source": [
    "**Los barrios Loop y River North se posicionan como los destinos más visitados en Chicago, con un notable número de viajes registrados. Sin embargo, para comprender mejor las razones detrás de estas cifras, sería valioso realizar un análisis más profundo que explore las características específicas de estos barrios y su atractivo para los visitantes.**"
   ]
  },
  {
   "cell_type": "markdown",
   "metadata": {},
   "source": [
    "## Prueba de hipótesis (Python)"
   ]
  },
  {
   "cell_type": "code",
   "execution_count": 12,
   "metadata": {},
   "outputs": [],
   "source": [
    "#filtramos para tener las condiciones climaticas separadas por 'bad' y 'good'\n",
    "rainy_saturdays = ds3[ds3['weather_conditions'] == 'Bad']\n",
    "non_rainy_saturdays = ds3[ds3['weather_conditions'] == 'Good']"
   ]
  },
  {
   "cell_type": "code",
   "execution_count": 13,
   "metadata": {},
   "outputs": [],
   "source": [
    "#A nuestras tablas resultantes del filtro anterior se extrae la duración de los viajes\n",
    "rainy_duration = rainy_saturdays['duration_seconds']\n",
    "non_rainy_duration = non_rainy_saturdays['duration_seconds']"
   ]
  },
  {
   "cell_type": "markdown",
   "metadata": {},
   "source": [
    "- Hipótesis nula (H0): La duración promedio de los viajes en sábados lluviosos es igual a la duración promedio en sábados no lluviosos.\n",
    "\n",
    "- Hipótesis alternativa (H1): La duración promedio de los viajes en sábados lluviosos es diferente a la duración promedio en sábados no lluviosos."
   ]
  },
  {
   "cell_type": "code",
   "execution_count": 14,
   "metadata": {},
   "outputs": [
    {
     "name": "stdout",
     "output_type": "stream",
     "text": [
      "T-statistic: 6.946177714041499, P-value: 6.517970327099473e-12\n",
      "Rechazamos la hipótesis nula.\n"
     ]
    }
   ],
   "source": [
    "# Prueba t de Student\n",
    "t_stat, p_value = st.ttest_ind(rainy_duration, non_rainy_duration)\n",
    "\n",
    "# Resultado\n",
    "alpha = 0.05\n",
    "print(f\"T-statistic: {t_stat}, P-value: {p_value}\")\n",
    "\n",
    "if p_value < alpha:\n",
    "    print(\"Rechazamos la hipótesis nula.\")\n",
    "else:\n",
    "    print(\"No rechazamos la hipótesis nula.\")"
   ]
  },
  {
   "cell_type": "markdown",
   "metadata": {},
   "source": [
    "**La duración promedio de los viajes desde el Loop hasta el Aeropuerto Internacional O'Hare varía según las condiciones climáticas. En particular, se observa que los días lluviosos, presentan una duración promedio diferente en comparación con los días no lluviosos.**"
   ]
  },
  {
   "cell_type": "markdown",
   "metadata": {},
   "source": [
    "## Conclusión general"
   ]
  },
  {
   "cell_type": "markdown",
   "metadata": {},
   "source": [
    "**El análisis del sector de viajes en Chicago revela varios hallazgos importantes. Flash Cab se establece como la empresa líder, con casi el doble de viajes en comparación con su competidor más cercano. Además, los barrios Loop y River North se destacan como los destinos más visitados, lo que sugiere la necesidad de un análisis más profundo sobre las características que los hacen atractivos para los viajeros. Por último, se observa que la duración promedio de los viajes desde el Loop hasta el Aeropuerto Internacional O'Hare varía según las condiciones climáticas, destacándose diferencias significativas entre días lluviosos y no lluviosos. Estos hallazgos ofrecen una visión integral del panorama de viajes en Chicago y plantean oportunidades para futuras investigaciones y mejoras en el servicio.**"
   ]
  }
 ],
 "metadata": {
  "ExecuteTimeLog": [
   {
    "duration": 2680,
    "start_time": "2024-10-30T02:50:54.206Z"
   },
   {
    "duration": 15,
    "start_time": "2024-10-30T02:50:58.823Z"
   },
   {
    "duration": 13,
    "start_time": "2024-10-30T02:51:33.465Z"
   },
   {
    "duration": 9,
    "start_time": "2024-10-30T02:52:42.194Z"
   },
   {
    "duration": 5,
    "start_time": "2024-10-30T02:52:53.695Z"
   },
   {
    "duration": 7,
    "start_time": "2024-10-30T02:53:08.645Z"
   },
   {
    "duration": 7,
    "start_time": "2024-10-30T02:54:09.421Z"
   },
   {
    "duration": 8,
    "start_time": "2024-10-30T02:54:17.678Z"
   },
   {
    "duration": 12,
    "start_time": "2024-10-30T02:54:41.893Z"
   },
   {
    "duration": 7,
    "start_time": "2024-10-30T02:55:03.126Z"
   },
   {
    "duration": 6,
    "start_time": "2024-10-30T02:57:16.116Z"
   },
   {
    "duration": 6,
    "start_time": "2024-10-30T03:03:07.852Z"
   },
   {
    "duration": 10,
    "start_time": "2024-10-30T03:04:25.642Z"
   },
   {
    "duration": 13,
    "start_time": "2024-10-30T03:04:28.333Z"
   },
   {
    "duration": 3,
    "start_time": "2024-10-30T03:09:08.006Z"
   },
   {
    "duration": 6,
    "start_time": "2024-10-30T03:09:17.216Z"
   },
   {
    "duration": 5,
    "start_time": "2024-10-30T03:10:43.981Z"
   },
   {
    "duration": 222,
    "start_time": "2024-10-30T03:15:45.866Z"
   },
   {
    "duration": 8,
    "start_time": "2024-10-30T03:15:54.331Z"
   },
   {
    "duration": 7,
    "start_time": "2024-10-30T03:16:14.199Z"
   },
   {
    "duration": 1138,
    "start_time": "2024-10-30T03:18:45.754Z"
   },
   {
    "duration": 15,
    "start_time": "2024-10-30T03:24:14.078Z"
   },
   {
    "duration": 14,
    "start_time": "2024-10-30T03:24:59.334Z"
   },
   {
    "duration": 5,
    "start_time": "2024-10-30T03:25:12.829Z"
   },
   {
    "duration": 3,
    "start_time": "2024-10-30T03:26:22.163Z"
   },
   {
    "duration": 3,
    "start_time": "2024-10-30T03:26:27.579Z"
   },
   {
    "duration": 4,
    "start_time": "2024-10-30T03:26:31.974Z"
   },
   {
    "duration": 698,
    "start_time": "2024-10-30T03:28:54.223Z"
   },
   {
    "duration": 5,
    "start_time": "2024-10-30T03:30:00.792Z"
   },
   {
    "duration": 1023,
    "start_time": "2024-10-30T03:30:06.218Z"
   },
   {
    "duration": 1023,
    "start_time": "2024-10-30T03:39:44.608Z"
   },
   {
    "duration": 1050,
    "start_time": "2024-10-30T03:40:43.296Z"
   },
   {
    "duration": 169,
    "start_time": "2024-10-30T03:43:31.819Z"
   },
   {
    "duration": 261,
    "start_time": "2024-10-30T03:57:02.211Z"
   },
   {
    "duration": 173,
    "start_time": "2024-10-30T03:58:19.042Z"
   },
   {
    "duration": 9,
    "start_time": "2024-10-30T04:06:46.721Z"
   },
   {
    "duration": 10,
    "start_time": "2024-10-30T04:07:48.641Z"
   },
   {
    "duration": 12,
    "start_time": "2024-10-30T04:07:57.317Z"
   },
   {
    "duration": 12,
    "start_time": "2024-10-30T04:12:37.680Z"
   },
   {
    "duration": 10,
    "start_time": "2024-10-30T04:12:51.845Z"
   },
   {
    "duration": 13,
    "start_time": "2024-10-30T04:15:18.936Z"
   },
   {
    "duration": 15,
    "start_time": "2024-10-30T04:19:28.520Z"
   },
   {
    "duration": 4,
    "start_time": "2024-10-30T04:19:47.427Z"
   },
   {
    "duration": 7,
    "start_time": "2024-10-30T04:21:16.712Z"
   },
   {
    "duration": 11,
    "start_time": "2024-10-30T04:22:12.322Z"
   },
   {
    "duration": 4,
    "start_time": "2024-10-30T04:22:26.006Z"
   },
   {
    "duration": 3,
    "start_time": "2024-10-30T04:22:29.688Z"
   },
   {
    "duration": 6,
    "start_time": "2024-10-30T04:22:43.140Z"
   },
   {
    "duration": 12,
    "start_time": "2024-10-30T04:23:06.109Z"
   },
   {
    "duration": 4,
    "start_time": "2024-10-30T04:23:30.274Z"
   },
   {
    "duration": 3,
    "start_time": "2024-10-30T04:23:35.683Z"
   },
   {
    "duration": 15,
    "start_time": "2024-10-30T04:24:13.677Z"
   },
   {
    "duration": 4,
    "start_time": "2024-10-30T04:25:01.592Z"
   },
   {
    "duration": 2,
    "start_time": "2024-10-30T04:35:18.364Z"
   },
   {
    "duration": 2665,
    "start_time": "2024-10-30T15:20:27.393Z"
   },
   {
    "duration": 16,
    "start_time": "2024-10-30T15:20:30.061Z"
   },
   {
    "duration": 13,
    "start_time": "2024-10-30T15:20:30.078Z"
   },
   {
    "duration": 10,
    "start_time": "2024-10-30T15:20:30.093Z"
   },
   {
    "duration": 3,
    "start_time": "2024-10-30T15:20:30.105Z"
   },
   {
    "duration": 17,
    "start_time": "2024-10-30T15:20:30.110Z"
   },
   {
    "duration": 6,
    "start_time": "2024-10-30T15:20:30.129Z"
   },
   {
    "duration": 1060,
    "start_time": "2024-10-30T15:20:30.137Z"
   },
   {
    "duration": 1163,
    "start_time": "2024-10-30T15:20:31.199Z"
   },
   {
    "duration": 9,
    "start_time": "2024-10-30T15:20:32.364Z"
   },
   {
    "duration": 12,
    "start_time": "2024-10-30T15:20:32.375Z"
   },
   {
    "duration": 9,
    "start_time": "2024-10-30T15:20:32.388Z"
   },
   {
    "duration": 27,
    "start_time": "2024-10-30T15:20:32.399Z"
   },
   {
    "duration": 2,
    "start_time": "2024-10-30T15:20:32.429Z"
   },
   {
    "duration": 5,
    "start_time": "2024-10-30T15:20:32.433Z"
   },
   {
    "duration": 4100,
    "start_time": "2024-10-31T02:37:41.494Z"
   },
   {
    "duration": 129,
    "start_time": "2024-10-31T02:37:45.597Z"
   },
   {
    "duration": 18,
    "start_time": "2024-10-31T02:37:45.732Z"
   },
   {
    "duration": 22,
    "start_time": "2024-10-31T02:37:45.755Z"
   },
   {
    "duration": 10,
    "start_time": "2024-10-31T02:37:45.783Z"
   },
   {
    "duration": 9,
    "start_time": "2024-10-31T02:37:45.798Z"
   },
   {
    "duration": 12,
    "start_time": "2024-10-31T02:37:45.817Z"
   },
   {
    "duration": 1748,
    "start_time": "2024-10-31T02:37:45.835Z"
   },
   {
    "duration": 269,
    "start_time": "2024-10-31T02:37:47.585Z"
   },
   {
    "duration": 77,
    "start_time": "2024-10-31T02:37:47.856Z"
   },
   {
    "duration": 17,
    "start_time": "2024-10-31T02:37:47.937Z"
   },
   {
    "duration": 12,
    "start_time": "2024-10-31T02:37:47.957Z"
   },
   {
    "duration": 4,
    "start_time": "2024-10-31T02:37:47.971Z"
   },
   {
    "duration": 2,
    "start_time": "2024-10-31T02:37:47.979Z"
   },
   {
    "duration": 4,
    "start_time": "2024-10-31T02:37:47.983Z"
   },
   {
    "duration": 1310,
    "start_time": "2024-10-31T02:48:29.251Z"
   },
   {
    "duration": 458,
    "start_time": "2024-10-31T02:49:26.397Z"
   },
   {
    "duration": 32,
    "start_time": "2024-10-31T02:53:35.186Z"
   },
   {
    "duration": 27,
    "start_time": "2024-10-31T02:53:48.706Z"
   },
   {
    "duration": 13,
    "start_time": "2024-10-31T02:56:49.122Z"
   },
   {
    "duration": 1165,
    "start_time": "2024-10-31T02:57:28.216Z"
   },
   {
    "duration": 85,
    "start_time": "2024-10-31T02:57:29.384Z"
   },
   {
    "duration": 16,
    "start_time": "2024-10-31T02:57:29.472Z"
   },
   {
    "duration": 12,
    "start_time": "2024-10-31T02:57:29.490Z"
   },
   {
    "duration": 12,
    "start_time": "2024-10-31T02:57:29.504Z"
   },
   {
    "duration": 10,
    "start_time": "2024-10-31T02:57:29.518Z"
   },
   {
    "duration": 13,
    "start_time": "2024-10-31T02:57:29.530Z"
   },
   {
    "duration": 7,
    "start_time": "2024-10-31T02:57:29.570Z"
   },
   {
    "duration": 11,
    "start_time": "2024-10-31T02:57:29.579Z"
   },
   {
    "duration": 17,
    "start_time": "2024-10-31T02:57:29.592Z"
   },
   {
    "duration": 514,
    "start_time": "2024-10-31T02:57:29.611Z"
   },
   {
    "duration": 342,
    "start_time": "2024-10-31T02:57:30.127Z"
   },
   {
    "duration": 15,
    "start_time": "2024-10-31T02:57:30.471Z"
   },
   {
    "duration": 14,
    "start_time": "2024-10-31T02:57:30.488Z"
   },
   {
    "duration": 19,
    "start_time": "2024-10-31T02:57:30.504Z"
   },
   {
    "duration": 5308,
    "start_time": "2024-10-31T03:40:51.047Z"
   },
   {
    "duration": 378,
    "start_time": "2024-10-31T03:40:56.358Z"
   },
   {
    "duration": 20,
    "start_time": "2024-10-31T03:40:56.737Z"
   },
   {
    "duration": 93,
    "start_time": "2024-10-31T03:40:56.762Z"
   },
   {
    "duration": 93,
    "start_time": "2024-10-31T03:40:56.858Z"
   },
   {
    "duration": 87,
    "start_time": "2024-10-31T03:40:56.954Z"
   },
   {
    "duration": 7,
    "start_time": "2024-10-31T03:40:57.044Z"
   },
   {
    "duration": 81,
    "start_time": "2024-10-31T03:40:57.054Z"
   },
   {
    "duration": 15,
    "start_time": "2024-10-31T03:40:57.138Z"
   },
   {
    "duration": 1499,
    "start_time": "2024-10-31T03:40:57.159Z"
   },
   {
    "duration": 1576,
    "start_time": "2024-10-31T03:40:58.659Z"
   },
   {
    "duration": 6,
    "start_time": "2024-10-31T03:41:00.238Z"
   },
   {
    "duration": 3,
    "start_time": "2024-10-31T03:41:00.246Z"
   },
   {
    "duration": 5,
    "start_time": "2024-10-31T03:41:00.251Z"
   }
  ],
  "kernelspec": {
   "display_name": "base",
   "language": "python",
   "name": "python3"
  },
  "language_info": {
   "codemirror_mode": {
    "name": "ipython",
    "version": 3
   },
   "file_extension": ".py",
   "mimetype": "text/x-python",
   "name": "python",
   "nbconvert_exporter": "python",
   "pygments_lexer": "ipython3",
   "version": "3.12.7"
  },
  "toc": {
   "base_numbering": 1,
   "nav_menu": {},
   "number_sections": true,
   "sideBar": true,
   "skip_h1_title": true,
   "title_cell": "Table of Contents",
   "title_sidebar": "Contents",
   "toc_cell": false,
   "toc_position": {},
   "toc_section_display": true,
   "toc_window_display": false
  }
 },
 "nbformat": 4,
 "nbformat_minor": 2
}
